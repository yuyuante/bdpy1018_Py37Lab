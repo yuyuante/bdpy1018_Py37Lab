{
 "cells": [
  {
   "cell_type": "code",
   "execution_count": 2,
   "metadata": {},
   "outputs": [],
   "source": [
    "import pandas_datareader.wb as wb\n",
    "data1 = wb.search(string='SE.PRM.TENR',field='id')"
   ]
  },
  {
   "cell_type": "code",
   "execution_count": 3,
   "metadata": {},
   "outputs": [
    {
     "data": {
      "text/html": [
       "<div>\n",
       "<style scoped>\n",
       "    .dataframe tbody tr th:only-of-type {\n",
       "        vertical-align: middle;\n",
       "    }\n",
       "\n",
       "    .dataframe tbody tr th {\n",
       "        vertical-align: top;\n",
       "    }\n",
       "\n",
       "    .dataframe thead th {\n",
       "        text-align: right;\n",
       "    }\n",
       "</style>\n",
       "<table border=\"1\" class=\"dataframe\">\n",
       "  <thead>\n",
       "    <tr style=\"text-align: right;\">\n",
       "      <th></th>\n",
       "      <th>id</th>\n",
       "      <th>name</th>\n",
       "      <th>unit</th>\n",
       "      <th>source</th>\n",
       "      <th>sourceNote</th>\n",
       "      <th>sourceOrganization</th>\n",
       "      <th>topics</th>\n",
       "    </tr>\n",
       "  </thead>\n",
       "  <tbody>\n",
       "    <tr>\n",
       "      <th>10225</th>\n",
       "      <td>SE.PRM.TENR</td>\n",
       "      <td>Adjusted net enrollment rate, primary (% of pr...</td>\n",
       "      <td></td>\n",
       "      <td>World Development Indicators</td>\n",
       "      <td>Adjusted net enrollment is the number of pupil...</td>\n",
       "      <td>b'UNESCO Institute for Statistics (http://uis....</td>\n",
       "      <td>Education</td>\n",
       "    </tr>\n",
       "    <tr>\n",
       "      <th>10226</th>\n",
       "      <td>SE.PRM.TENR.FE</td>\n",
       "      <td>Adjusted net enrollment rate, primary, female ...</td>\n",
       "      <td></td>\n",
       "      <td>World Development Indicators</td>\n",
       "      <td>Adjusted net enrollment is the number of pupil...</td>\n",
       "      <td>b'UNESCO Institute for Statistics (http://uis....</td>\n",
       "      <td>Education  ; Gender</td>\n",
       "    </tr>\n",
       "    <tr>\n",
       "      <th>10227</th>\n",
       "      <td>SE.PRM.TENR.MA</td>\n",
       "      <td>Adjusted net enrollment rate, primary, male (%...</td>\n",
       "      <td></td>\n",
       "      <td>World Development Indicators</td>\n",
       "      <td>Adjusted net enrollment is the number of pupil...</td>\n",
       "      <td>b'UNESCO Institute for Statistics (http://uis....</td>\n",
       "      <td>Education  ; Gender</td>\n",
       "    </tr>\n",
       "  </tbody>\n",
       "</table>\n",
       "</div>"
      ],
      "text/plain": [
       "                   id                                               name unit  \\\n",
       "10225     SE.PRM.TENR  Adjusted net enrollment rate, primary (% of pr...        \n",
       "10226  SE.PRM.TENR.FE  Adjusted net enrollment rate, primary, female ...        \n",
       "10227  SE.PRM.TENR.MA  Adjusted net enrollment rate, primary, male (%...        \n",
       "\n",
       "                             source  \\\n",
       "10225  World Development Indicators   \n",
       "10226  World Development Indicators   \n",
       "10227  World Development Indicators   \n",
       "\n",
       "                                              sourceNote  \\\n",
       "10225  Adjusted net enrollment is the number of pupil...   \n",
       "10226  Adjusted net enrollment is the number of pupil...   \n",
       "10227  Adjusted net enrollment is the number of pupil...   \n",
       "\n",
       "                                      sourceOrganization               topics  \n",
       "10225  b'UNESCO Institute for Statistics (http://uis....           Education   \n",
       "10226  b'UNESCO Institute for Statistics (http://uis....  Education  ; Gender  \n",
       "10227  b'UNESCO Institute for Statistics (http://uis....  Education  ; Gender  "
      ]
     },
     "execution_count": 3,
     "metadata": {},
     "output_type": "execute_result"
    }
   ],
   "source": [
    "data1"
   ]
  },
  {
   "cell_type": "code",
   "execution_count": 4,
   "metadata": {},
   "outputs": [
    {
     "data": {
      "text/html": [
       "<div>\n",
       "<style scoped>\n",
       "    .dataframe tbody tr th:only-of-type {\n",
       "        vertical-align: middle;\n",
       "    }\n",
       "\n",
       "    .dataframe tbody tr th {\n",
       "        vertical-align: top;\n",
       "    }\n",
       "\n",
       "    .dataframe thead th {\n",
       "        text-align: right;\n",
       "    }\n",
       "</style>\n",
       "<table border=\"1\" class=\"dataframe\">\n",
       "  <thead>\n",
       "    <tr style=\"text-align: right;\">\n",
       "      <th></th>\n",
       "      <th>id</th>\n",
       "      <th>name</th>\n",
       "      <th>unit</th>\n",
       "    </tr>\n",
       "  </thead>\n",
       "  <tbody>\n",
       "    <tr>\n",
       "      <th>10225</th>\n",
       "      <td>SE.PRM.TENR</td>\n",
       "      <td>Adjusted net enrollment rate, primary (% of pr...</td>\n",
       "      <td></td>\n",
       "    </tr>\n",
       "    <tr>\n",
       "      <th>10226</th>\n",
       "      <td>SE.PRM.TENR.FE</td>\n",
       "      <td>Adjusted net enrollment rate, primary, female ...</td>\n",
       "      <td></td>\n",
       "    </tr>\n",
       "    <tr>\n",
       "      <th>10227</th>\n",
       "      <td>SE.PRM.TENR.MA</td>\n",
       "      <td>Adjusted net enrollment rate, primary, male (%...</td>\n",
       "      <td></td>\n",
       "    </tr>\n",
       "  </tbody>\n",
       "</table>\n",
       "</div>"
      ],
      "text/plain": [
       "                   id                                               name unit\n",
       "10225     SE.PRM.TENR  Adjusted net enrollment rate, primary (% of pr...     \n",
       "10226  SE.PRM.TENR.FE  Adjusted net enrollment rate, primary, female ...     \n",
       "10227  SE.PRM.TENR.MA  Adjusted net enrollment rate, primary, male (%...     "
      ]
     },
     "execution_count": 4,
     "metadata": {},
     "output_type": "execute_result"
    }
   ],
   "source": [
    "data1.iloc[:,:3]"
   ]
  },
  {
   "cell_type": "code",
   "execution_count": 5,
   "metadata": {},
   "outputs": [
    {
     "data": {
      "text/html": [
       "<div>\n",
       "<style scoped>\n",
       "    .dataframe tbody tr th:only-of-type {\n",
       "        vertical-align: middle;\n",
       "    }\n",
       "\n",
       "    .dataframe tbody tr th {\n",
       "        vertical-align: top;\n",
       "    }\n",
       "\n",
       "    .dataframe thead th {\n",
       "        text-align: right;\n",
       "    }\n",
       "</style>\n",
       "<table border=\"1\" class=\"dataframe\">\n",
       "  <thead>\n",
       "    <tr style=\"text-align: right;\">\n",
       "      <th></th>\n",
       "      <th>source</th>\n",
       "      <th>sourceNote</th>\n",
       "      <th>sourceOrganization</th>\n",
       "      <th>topics</th>\n",
       "    </tr>\n",
       "  </thead>\n",
       "  <tbody>\n",
       "    <tr>\n",
       "      <th>10225</th>\n",
       "      <td>World Development Indicators</td>\n",
       "      <td>Adjusted net enrollment is the number of pupil...</td>\n",
       "      <td>b'UNESCO Institute for Statistics (http://uis....</td>\n",
       "      <td>Education</td>\n",
       "    </tr>\n",
       "    <tr>\n",
       "      <th>10226</th>\n",
       "      <td>World Development Indicators</td>\n",
       "      <td>Adjusted net enrollment is the number of pupil...</td>\n",
       "      <td>b'UNESCO Institute for Statistics (http://uis....</td>\n",
       "      <td>Education  ; Gender</td>\n",
       "    </tr>\n",
       "    <tr>\n",
       "      <th>10227</th>\n",
       "      <td>World Development Indicators</td>\n",
       "      <td>Adjusted net enrollment is the number of pupil...</td>\n",
       "      <td>b'UNESCO Institute for Statistics (http://uis....</td>\n",
       "      <td>Education  ; Gender</td>\n",
       "    </tr>\n",
       "  </tbody>\n",
       "</table>\n",
       "</div>"
      ],
      "text/plain": [
       "                             source  \\\n",
       "10225  World Development Indicators   \n",
       "10226  World Development Indicators   \n",
       "10227  World Development Indicators   \n",
       "\n",
       "                                              sourceNote  \\\n",
       "10225  Adjusted net enrollment is the number of pupil...   \n",
       "10226  Adjusted net enrollment is the number of pupil...   \n",
       "10227  Adjusted net enrollment is the number of pupil...   \n",
       "\n",
       "                                      sourceOrganization               topics  \n",
       "10225  b'UNESCO Institute for Statistics (http://uis....           Education   \n",
       "10226  b'UNESCO Institute for Statistics (http://uis....  Education  ; Gender  \n",
       "10227  b'UNESCO Institute for Statistics (http://uis....  Education  ; Gender  "
      ]
     },
     "execution_count": 5,
     "metadata": {},
     "output_type": "execute_result"
    }
   ],
   "source": [
    "data1.iloc[:,3:]"
   ]
  },
  {
   "cell_type": "code",
   "execution_count": 6,
   "metadata": {},
   "outputs": [
    {
     "data": {
      "text/plain": [
       "10225    Adjusted net enrollment rate, primary (% of pr...\n",
       "10226    Adjusted net enrollment rate, primary, female ...\n",
       "10227    Adjusted net enrollment rate, primary, male (%...\n",
       "Name: name, dtype: object"
      ]
     },
     "execution_count": 6,
     "metadata": {},
     "output_type": "execute_result"
    }
   ],
   "source": [
    "data1.iloc[:,1]"
   ]
  },
  {
   "cell_type": "code",
   "execution_count": 7,
   "metadata": {},
   "outputs": [
    {
     "data": {
      "text/plain": [
       "'Adjusted net enrollment rate, primary (% of primary school age children)'"
      ]
     },
     "execution_count": 7,
     "metadata": {},
     "output_type": "execute_result"
    }
   ],
   "source": [
    "data1.iloc[0,1]"
   ]
  },
  {
   "cell_type": "code",
   "execution_count": 8,
   "metadata": {},
   "outputs": [
    {
     "data": {
      "text/plain": [
       "'Adjusted net enrollment rate, primary, female (% of primary school age children)'"
      ]
     },
     "execution_count": 8,
     "metadata": {},
     "output_type": "execute_result"
    }
   ],
   "source": [
    "data1.iloc[1,1]"
   ]
  },
  {
   "cell_type": "code",
   "execution_count": 9,
   "metadata": {},
   "outputs": [
    {
     "data": {
      "text/plain": [
       "'Adjusted net enrollment rate, primary, male (% of primary school age children)'"
      ]
     },
     "execution_count": 9,
     "metadata": {},
     "output_type": "execute_result"
    }
   ],
   "source": [
    "data1.iloc[2,1]"
   ]
  },
  {
   "cell_type": "code",
   "execution_count": null,
   "metadata": {},
   "outputs": [],
   "source": []
  },
  {
   "cell_type": "code",
   "execution_count": null,
   "metadata": {},
   "outputs": [],
   "source": []
  }
 ],
 "metadata": {
  "kernelspec": {
   "display_name": "Python 3",
   "language": "python",
   "name": "python3"
  },
  "language_info": {
   "codemirror_mode": {
    "name": "ipython",
    "version": 3
   },
   "file_extension": ".py",
   "mimetype": "text/x-python",
   "name": "python",
   "nbconvert_exporter": "python",
   "pygments_lexer": "ipython3",
   "version": "3.7.5"
  }
 },
 "nbformat": 4,
 "nbformat_minor": 2
}
