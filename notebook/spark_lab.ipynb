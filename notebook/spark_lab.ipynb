{
 "cells": [
  {
   "cell_type": "code",
   "execution_count": 1,
   "metadata": {},
   "outputs": [
    {
     "data": {
      "text/html": [
       "\n",
       "            <div>\n",
       "                <p><b>SparkSession - hive</b></p>\n",
       "                \n",
       "        <div>\n",
       "            <p><b>SparkContext</b></p>\n",
       "\n",
       "            <p><a href=\"http://W10C:4040\">Spark UI</a></p>\n",
       "\n",
       "            <dl>\n",
       "              <dt>Version</dt>\n",
       "                <dd><code>v2.3.4</code></dd>\n",
       "              <dt>Master</dt>\n",
       "                <dd><code>local[*]</code></dd>\n",
       "              <dt>AppName</dt>\n",
       "                <dd><code>PySparkShell</code></dd>\n",
       "            </dl>\n",
       "        </div>\n",
       "        \n",
       "            </div>\n",
       "        "
      ],
      "text/plain": [
       "<pyspark.sql.session.SparkSession at 0x236a326dc88>"
      ]
     },
     "execution_count": 1,
     "metadata": {},
     "output_type": "execute_result"
    }
   ],
   "source": [
    "spark"
   ]
  },
  {
   "cell_type": "code",
   "execution_count": 2,
   "metadata": {},
   "outputs": [
    {
     "data": {
      "text/html": [
       "\n",
       "        <div>\n",
       "            <p><b>SparkContext</b></p>\n",
       "\n",
       "            <p><a href=\"http://W10C:4040\">Spark UI</a></p>\n",
       "\n",
       "            <dl>\n",
       "              <dt>Version</dt>\n",
       "                <dd><code>v2.3.4</code></dd>\n",
       "              <dt>Master</dt>\n",
       "                <dd><code>local[*]</code></dd>\n",
       "              <dt>AppName</dt>\n",
       "                <dd><code>PySparkShell</code></dd>\n",
       "            </dl>\n",
       "        </div>\n",
       "        "
      ],
      "text/plain": [
       "<SparkContext master=local[*] appName=PySparkShell>"
      ]
     },
     "execution_count": 2,
     "metadata": {},
     "output_type": "execute_result"
    }
   ],
   "source": [
    "sc"
   ]
  },
  {
   "cell_type": "code",
   "execution_count": 3,
   "metadata": {},
   "outputs": [
    {
     "data": {
      "text/plain": [
       "224"
      ]
     },
     "execution_count": 3,
     "metadata": {},
     "output_type": "execute_result"
    }
   ],
   "source": [
    "file_in = sc.textFile('data\\\\eula*txt')\n",
    "file_in.count()"
   ]
  },
  {
   "cell_type": "code",
   "execution_count": 4,
   "metadata": {},
   "outputs": [
    {
     "data": {
      "text/plain": [
       "17362"
      ]
     },
     "execution_count": 4,
     "metadata": {},
     "output_type": "execute_result"
    }
   ],
   "source": [
    "import re\n",
    "from operator import add\n",
    "chars = file_in.map(lambda s:len(s)).reduce(add)\n",
    "chars"
   ]
  },
  {
   "cell_type": "code",
   "execution_count": 6,
   "metadata": {
    "collapsed": true
   },
   "outputs": [
    {
     "data": {
      "text/plain": [
       "['',\n",
       " 'you',\n",
       " 'have',\n",
       " 'received',\n",
       " 'the',\n",
       " 'software',\n",
       " 'as',\n",
       " 'part',\n",
       " 'of',\n",
       " 'the',\n",
       " 'visual',\n",
       " 'studio',\n",
       " '9',\n",
       " '0',\n",
       " 'beta',\n",
       " 'program',\n",
       " '',\n",
       " 'the',\n",
       " 'terms',\n",
       " 'and',\n",
       " 'conditions',\n",
       " 'of',\n",
       " 'the',\n",
       " 'visual',\n",
       " 'studio',\n",
       " '9',\n",
       " '0',\n",
       " 'beta',\n",
       " '1',\n",
       " 'license',\n",
       " 'agreement',\n",
       " 'applies',\n",
       " 'to',\n",
       " 'your',\n",
       " 'use',\n",
       " 'of',\n",
       " 'the',\n",
       " 'software',\n",
       " 'microsoft',\n",
       " 'pre',\n",
       " 'release',\n",
       " 'software',\n",
       " 'license',\n",
       " 'terms',\n",
       " 'microsoft',\n",
       " 'visual',\n",
       " 'studio',\n",
       " '9',\n",
       " '0',\n",
       " 'professional']"
      ]
     },
     "execution_count": 6,
     "metadata": {},
     "output_type": "execute_result"
    }
   ],
   "source": [
    "words = file_in.flatMap(lambda line:re.split('\\W+', line.lower().strip()))\n",
    "words.take(50)"
   ]
  },
  {
   "cell_type": "code",
   "execution_count": 7,
   "metadata": {
    "collapsed": true
   },
   "outputs": [
    {
     "data": {
      "text/plain": [
       "[('**You', 2),\n",
       " ('have', 10),\n",
       " ('as', 4),\n",
       " ('of', 50),\n",
       " ('Program.', 2),\n",
       " ('', 224),\n",
       " ('The', 20),\n",
       " ('conditions', 2),\n",
       " ('1', 4),\n",
       " ('agreement', 20),\n",
       " ('applies', 8),\n",
       " ('use', 18),\n",
       " ('software.**', 2),\n",
       " ('MICROSOFT', 10),\n",
       " ('LICENSE', 2),\n",
       " ('STUDIO', 2),\n",
       " ('PROFESSIONAL,', 2),\n",
       " ('These', 8),\n",
       " ('are', 6),\n",
       " ('an', 2)]"
      ]
     },
     "execution_count": 7,
     "metadata": {},
     "output_type": "execute_result"
    }
   ],
   "source": [
    "counts = file_in.flatMap(lambda line:line.split(\" \")).map(lambda word:(word, 1)).reduceByKey(lambda a,b:a+b)\n",
    "counts.take(20)"
   ]
  },
  {
   "cell_type": "code",
   "execution_count": 9,
   "metadata": {
    "collapsed": true
   },
   "outputs": [
    {
     "data": {
      "text/plain": [
       "[(224, ''),\n",
       " (108, 'the'),\n",
       " (60, 'to'),\n",
       " (54, 'software'),\n",
       " (50, 'of'),\n",
       " (40, '�E'),\n",
       " (38, 'and'),\n",
       " (36, 'you'),\n",
       " (36, 'de'),\n",
       " (32, 'or'),\n",
       " (28, 'may'),\n",
       " (28, 'any'),\n",
       " (26, 'in'),\n",
       " (26, 'for'),\n",
       " (26, 'not'),\n",
       " (24, 'this'),\n",
       " (24, 'Microsoft'),\n",
       " (22, 'ou'),\n",
       " (22, 'your'),\n",
       " (22, 'with')]"
      ]
     },
     "execution_count": 9,
     "metadata": {},
     "output_type": "execute_result"
    }
   ],
   "source": [
    "countsReverse = counts.map(lambda x:(x[1], x[0])).sortByKey(False)\n",
    "countsReverse.take(20)"
   ]
  },
  {
   "cell_type": "code",
   "execution_count": 10,
   "metadata": {},
   "outputs": [],
   "source": [
    "%matplotlib inline\n",
    "import matplotlib.pyplot as plt"
   ]
  },
  {
   "cell_type": "code",
   "execution_count": 18,
   "metadata": {},
   "outputs": [
    {
     "name": "stdout",
     "output_type": "stream",
     "text": [
      "[224, 108, 60, 54, 50, 40, 38, 36, 36, 32, 28, 28, 26, 26, 26, 24, 24, 22, 22, 22, 20, 20, 20, 20, 18]\n"
     ]
    },
    {
     "data": {
      "image/png": "[encoded data removed]",
      "text/plain": [
       "<Figure size 432x288 with 1 Axes>"
      ]
     },
     "metadata": {
      "needs_background": "light"
     },
     "output_type": "display_data"
    }
   ],
   "source": [
    "count = countsReverse.map(lambda x:x[0]).take(25)\n",
    "word = countsReverse.map(lambda x:x[1]).take(25)\n",
    "print(count)\n",
    "plt.barh(range(len(count)),count, color='gray')\n",
    "plt.yticks(range(len(count)),word)\n",
    "plt.show()"
   ]
  },
  {
   "cell_type": "code",
   "execution_count": null,
   "metadata": {},
   "outputs": [],
   "source": []
  },
  {
   "cell_type": "code",
   "execution_count": null,
   "metadata": {},
   "outputs": [],
   "source": []
  },
  {
   "cell_type": "code",
   "execution_count": null,
   "metadata": {},
   "outputs": [],
   "source": []
  },
  {
   "cell_type": "code",
   "execution_count": null,
   "metadata": {},
   "outputs": [],
   "source": []
  },
  {
   "cell_type": "code",
   "execution_count": null,
   "metadata": {},
   "outputs": [],
   "source": []
  },
  {
   "cell_type": "code",
   "execution_count": null,
   "metadata": {},
   "outputs": [],
   "source": []
  },
  {
   "cell_type": "code",
   "execution_count": null,
   "metadata": {},
   "outputs": [],
   "source": []
  },
  {
   "cell_type": "code",
   "execution_count": null,
   "metadata": {},
   "outputs": [],
   "source": []
  },
  {
   "cell_type": "code",
   "execution_count": null,
   "metadata": {},
   "outputs": [],
   "source": []
  }
 ],
 "metadata": {
  "kernelspec": {
   "display_name": "Python 3",
   "language": "python",
   "name": "python3"
  },
  "language_info": {
   "codemirror_mode": {
    "name": "ipython",
    "version": 3
   },
   "file_extension": ".py",
   "mimetype": "text/x-python",
   "name": "python",
   "nbconvert_exporter": "python",
   "pygments_lexer": "ipython3",
   "version": "3.7.5"
  }
 },
 "nbformat": 4,
 "nbformat_minor": 2
}
